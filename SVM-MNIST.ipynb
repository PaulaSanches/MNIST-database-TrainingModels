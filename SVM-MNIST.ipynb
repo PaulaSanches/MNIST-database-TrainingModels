{
 "cells": [
  {
   "cell_type": "code",
   "execution_count": 10,
   "id": "b3e57b58-e782-43a1-8823-3460f3a94c06",
   "metadata": {},
   "outputs": [
    {
     "name": "stdout",
     "output_type": "stream",
     "text": [
      "['.DS_Store', 'test.csv', 'trains.csv', 'tests.csv', 'train.csv', '.ipynb_checkpoints', 'archive.zip']\n"
     ]
    }
   ],
   "source": [
    "import numpy as np # linear algebra\n",
    "import pandas as pd # data processing, CSV file I/O (e.g. pd.read_csv)\n",
    "import os\n",
    "print(os.listdir(\"input\"))"
   ]
  },
  {
   "cell_type": "code",
   "execution_count": 11,
   "id": "7baeb440-5370-4c1a-bd8e-469d71176df6",
   "metadata": {},
   "outputs": [],
   "source": [
    "import numpy as np\n",
    "import pandas as pd\n",
    "from sklearn.model_selection import train_test_split\n",
    "from sklearn.svm import SVC\n",
    "from sklearn.metrics import confusion_matrix, accuracy_score, precision_score, recall_score\n",
    "from sklearn.model_selection import validation_curve, KFold, cross_val_score, GridSearchCV\n",
    "from sklearn.preprocessing import scale\n",
    "import matplotlib.pyplot as plt\n",
    "import seaborn as sns\n",
    "from sklearn.model_selection import KFold\n"
   ]
  },
  {
   "cell_type": "code",
   "execution_count": 12,
   "id": "2bb3c753-9543-47d2-93ac-14e0695bc193",
   "metadata": {},
   "outputs": [],
   "source": [
    "train_data = pd.read_csv(\"input/trains.csv\") #reading the csv files using pandas\n",
    "test_data = pd.read_csv(\"input/tests.csv\")"
   ]
  },
  {
   "cell_type": "code",
   "execution_count": 27,
   "id": "cf91edcd-1692-43ce-a446-b8cc2ad480c5",
   "metadata": {},
   "outputs": [
    {
     "data": {
      "text/plain": [
       "Text(0.5, 1.0, 'Digit 1')"
      ]
     },
     "execution_count": 27,
     "metadata": {},
     "output_type": "execute_result"
    },
    {
     "data": {
      "image/png": "[encoded data removed]",
      "text/plain": [
       "<Figure size 432x288 with 1 Axes>"
      ]
     },
     "metadata": {
      "needs_background": "light"
     },
     "output_type": "display_data"
    }
   ],
   "source": [
    "# Plotting some samples as well as converting into matrix\n",
    "\n",
    "four = train_data.iloc[3, 1:]\n",
    "four.shape\n",
    "four = four.values.reshape(28,28)\n",
    "plt.imshow(four, cmap='gray')\n",
    "plt.title(\"Digit 1\")"
   ]
  },
  {
   "cell_type": "code",
   "execution_count": 14,
   "id": "c007ad53-56bb-4f3e-9d45-c65495cf4df4",
   "metadata": {},
   "outputs": [
    {
     "name": "stderr",
     "output_type": "stream",
     "text": [
      "/Users/lihui/opt/anaconda3/lib/python3.8/site-packages/seaborn/_decorators.py:36: FutureWarning: Pass the following variable as a keyword arg: x. From version 0.12, the only valid positional argument will be `data`, and passing other arguments without an explicit keyword will result in an error or misinterpretation.\n",
      "  warnings.warn(\n"
     ]
    },
    {
     "data": {
      "text/plain": [
       "1    6742\n",
       "7    6265\n",
       "3    6131\n",
       "2    5958\n",
       "9    5949\n",
       "0    5923\n",
       "6    5918\n",
       "8    5851\n",
       "4    5842\n",
       "5    5421\n",
       "Name: label, dtype: int64"
      ]
     },
     "execution_count": 14,
     "metadata": {},
     "output_type": "execute_result"
    },
    {
     "data": {
      "image/png": "[encoded data removed]",
      "text/plain": [
       "<Figure size 432x288 with 1 Axes>"
      ]
     },
     "metadata": {
      "needs_background": "light"
     },
     "output_type": "display_data"
    }
   ],
   "source": [
    "## Visualizing the number of class and counts in the datasets\n",
    "plt.plot(figure = (16,10))\n",
    "g = sns.countplot( train_data[\"label\"], palette = 'icefire')\n",
    "plt.title('NUmber of digit classes')\n",
    "train_data.label.astype('category').value_counts()"
   ]
  },
  {
   "cell_type": "code",
   "execution_count": 15,
   "id": "7806dd40-2488-4ef2-a1ba-0abfe1bdfd01",
   "metadata": {},
   "outputs": [
    {
     "name": "stdout",
     "output_type": "stream",
     "text": [
      "(60000, 785)\n"
     ]
    }
   ],
   "source": [
    "## Separating the X and Y variable\n",
    "\n",
    "y = train_data['label']\n",
    "\n",
    "## Dropping the variable 'label' from X variable \n",
    "X = train_data.drop(columns = 'label')\n",
    "\n",
    "## Printing the size of data \n",
    "print(train_data.shape)"
   ]
  },
  {
   "cell_type": "code",
   "execution_count": 16,
   "id": "3f2f01b8-e015-44cb-9bb2-6761a7e8ddf4",
   "metadata": {},
   "outputs": [
    {
     "name": "stdout",
     "output_type": "stream",
     "text": [
      "X: (60000, 784)\n",
      "test_data: (10000, 785)\n"
     ]
    }
   ],
   "source": [
    "## Normalization\n",
    "\n",
    "X = X/255.0\n",
    "test_data = test_data/255.0\n",
    "\n",
    "print(\"X:\", X.shape)\n",
    "print(\"test_data:\", test_data.shape)"
   ]
  },
  {
   "cell_type": "code",
   "execution_count": 17,
   "id": "b89d3c4c-75b7-40bf-aa23-2fd168d0badc",
   "metadata": {},
   "outputs": [],
   "source": [
    "# scaling the features\n",
    "from sklearn.preprocessing import scale\n",
    "X_scaled = scale(X)\n",
    "\n",
    "# train test split\n",
    "X_train, X_test, y_train, y_test = train_test_split(X_scaled, y, test_size = 0.3, train_size = 0.2 ,random_state = 10)"
   ]
  },
  {
   "cell_type": "code",
   "execution_count": 18,
   "id": "c8c7b242-4810-4016-ae54-6ada3a331a45",
   "metadata": {},
   "outputs": [],
   "source": [
    "# linear model\n",
    "\n",
    "model_linear = SVC(kernel='linear')\n",
    "model_linear.fit(X_train, y_train)\n",
    "\n",
    "# predict\n",
    "y_pred = model_linear.predict(X_test)"
   ]
  },
  {
   "cell_type": "code",
   "execution_count": 19,
   "id": "e032cbe1-717c-4210-927a-b5ff9f21d354",
   "metadata": {},
   "outputs": [
    {
     "name": "stdout",
     "output_type": "stream",
     "text": [
      "accuracy: 0.9103333333333333 \n",
      "\n",
      "[[1719    0   10    5    3   16   12    1    6    0]\n",
      " [   1 1951   11    5    5    4    0    3   11    1]\n",
      " [  11   26 1676   30   23    5   23   19   17    1]\n",
      " [  10    4   47 1627    4   66    5   19   42   10]\n",
      " [   4    8   21    1 1658    5   14    6    5   50]\n",
      " [  21    9   19   87   12 1423   30    1   39   11]\n",
      " [  20    7   23    1   14   20 1666    2    4    0]\n",
      " [   7   13   19   16   31    4    2 1774    5   93]\n",
      " [  25   44   49   54   12   58   18   11 1436   17]\n",
      " [   4   11   19   23   90    9    1   69   20 1456]]\n"
     ]
    }
   ],
   "source": [
    "# confusion matrix and accuracy\n",
    "\n",
    "from sklearn import metrics\n",
    "from sklearn.metrics import confusion_matrix\n",
    "# accuracy\n",
    "print(\"accuracy:\", metrics.accuracy_score(y_true=y_test, y_pred=y_pred), \"\\n\")\n",
    "\n",
    "# cm\n",
    "print(metrics.confusion_matrix(y_true=y_test, y_pred=y_pred))"
   ]
  },
  {
   "cell_type": "code",
   "execution_count": 20,
   "id": "f9ad76a2-5935-4e0c-8398-b03d8513b3a1",
   "metadata": {},
   "outputs": [],
   "source": [
    "# non-linear model\n",
    "# using rbf kernel, C=1, default value of gamma\n",
    "\n",
    "# model\n",
    "non_linear_model = SVC(kernel='rbf')\n",
    "\n",
    "# fit\n",
    "non_linear_model.fit(X_train, y_train)\n",
    "\n",
    "# predict\n",
    "y_pred = non_linear_model.predict(X_test)"
   ]
  },
  {
   "cell_type": "code",
   "execution_count": 21,
   "id": "ca56b3d6-8d94-4d4d-8b85-0694dc9cfdcd",
   "metadata": {},
   "outputs": [
    {
     "name": "stdout",
     "output_type": "stream",
     "text": [
      "accuracy: 0.943 \n",
      "\n",
      "[[1722    0   15    4    1    6   13    2    8    1]\n",
      " [   1 1947   21    7    5    0    1    2    7    1]\n",
      " [   5    6 1747   11   12    3   14   16   14    3]\n",
      " [   2    3   52 1685    1   37    2   21   26    5]\n",
      " [   1    5   31    1 1664    5    9    7    4   45]\n",
      " [   3    5   28   33    3 1526   27    5   15    7]\n",
      " [   8    4   21    0    4   14 1698    1    7    0]\n",
      " [   3   11   52    7   14    0    0 1828    2   47]\n",
      " [  10   22   32   18    9   26   11    5 1585    6]\n",
      " [   3    5   25   17   23    4    0   38   15 1572]]\n"
     ]
    }
   ],
   "source": [
    "# confusion matrix and accuracy\n",
    "\n",
    "# accuracy\n",
    "print(\"accuracy:\", metrics.accuracy_score(y_true=y_test, y_pred=y_pred), \"\\n\")\n",
    "\n",
    "# cm\n",
    "print(metrics.confusion_matrix(y_true=y_test, y_pred=y_pred))"
   ]
  },
  {
   "cell_type": "code",
   "execution_count": 22,
   "id": "b2a05618-681a-4a4e-9119-e25038af7cf7",
   "metadata": {},
   "outputs": [
    {
     "name": "stdout",
     "output_type": "stream",
     "text": [
      "Fitting 5 folds for each of 6 candidates, totalling 30 fits\n"
     ]
    },
    {
     "data": {
      "text/plain": [
       "GridSearchCV(cv=KFold(n_splits=5, random_state=10, shuffle=True),\n",
       "             estimator=SVC(),\n",
       "             param_grid=[{'C': [5, 10], 'gamma': [0.01, 0.001, 0.0001]}],\n",
       "             return_train_score=True, scoring='accuracy', verbose=1)"
      ]
     },
     "execution_count": 22,
     "metadata": {},
     "output_type": "execute_result"
    }
   ],
   "source": [
    "\n",
    "# creating a KFold object with 5 splits \n",
    "folds = KFold(n_splits = 5, shuffle = True, random_state = 10)\n",
    "\n",
    "# specify range of hyperparameters\n",
    "# Set the parameters by cross-validation\n",
    "hyper_params = [ {'gamma': [1e-2, 1e-3, 1e-4],\n",
    "                     'C': [5,10]}]\n",
    "\n",
    "\n",
    "# specify model\n",
    "model = SVC(kernel=\"rbf\")\n",
    "\n",
    "# set up GridSearchCV()\n",
    "model_cv = GridSearchCV(estimator = model, \n",
    "                        param_grid = hyper_params, \n",
    "                        scoring= 'accuracy', \n",
    "                        cv = folds, \n",
    "                        verbose = 1,\n",
    "                        return_train_score=True)      \n",
    "\n",
    "# fit the model\n",
    "model_cv.fit(X_train, y_train)"
   ]
  },
  {
   "cell_type": "code",
   "execution_count": 23,
   "id": "bb32dc68-c34e-44b4-b76e-7c1a07ac5e47",
   "metadata": {},
   "outputs": [
    {
     "data": {
      "text/html": [
       "<div>\n",
       "<style scoped>\n",
       "    .dataframe tbody tr th:only-of-type {\n",
       "        vertical-align: middle;\n",
       "    }\n",
       "\n",
       "    .dataframe tbody tr th {\n",
       "        vertical-align: top;\n",
       "    }\n",
       "\n",
       "    .dataframe thead th {\n",
       "        text-align: right;\n",
       "    }\n",
       "</style>\n",
       "<table border=\"1\" class=\"dataframe\">\n",
       "  <thead>\n",
       "    <tr style=\"text-align: right;\">\n",
       "      <th></th>\n",
       "      <th>mean_fit_time</th>\n",
       "      <th>std_fit_time</th>\n",
       "      <th>mean_score_time</th>\n",
       "      <th>std_score_time</th>\n",
       "      <th>param_C</th>\n",
       "      <th>param_gamma</th>\n",
       "      <th>params</th>\n",
       "      <th>split0_test_score</th>\n",
       "      <th>split1_test_score</th>\n",
       "      <th>split2_test_score</th>\n",
       "      <th>...</th>\n",
       "      <th>mean_test_score</th>\n",
       "      <th>std_test_score</th>\n",
       "      <th>rank_test_score</th>\n",
       "      <th>split0_train_score</th>\n",
       "      <th>split1_train_score</th>\n",
       "      <th>split2_train_score</th>\n",
       "      <th>split3_train_score</th>\n",
       "      <th>split4_train_score</th>\n",
       "      <th>mean_train_score</th>\n",
       "      <th>std_train_score</th>\n",
       "    </tr>\n",
       "  </thead>\n",
       "  <tbody>\n",
       "    <tr>\n",
       "      <th>0</th>\n",
       "      <td>51.759413</td>\n",
       "      <td>2.192987</td>\n",
       "      <td>11.529590</td>\n",
       "      <td>0.219934</td>\n",
       "      <td>5</td>\n",
       "      <td>0.01</td>\n",
       "      <td>{'C': 5, 'gamma': 0.01}</td>\n",
       "      <td>0.789583</td>\n",
       "      <td>0.764167</td>\n",
       "      <td>0.795000</td>\n",
       "      <td>...</td>\n",
       "      <td>0.776083</td>\n",
       "      <td>0.013567</td>\n",
       "      <td>5</td>\n",
       "      <td>1.000000</td>\n",
       "      <td>1.000000</td>\n",
       "      <td>1.000000</td>\n",
       "      <td>1.000000</td>\n",
       "      <td>1.000000</td>\n",
       "      <td>1.000000</td>\n",
       "      <td>0.000000</td>\n",
       "    </tr>\n",
       "    <tr>\n",
       "      <th>1</th>\n",
       "      <td>9.719326</td>\n",
       "      <td>0.634949</td>\n",
       "      <td>5.468231</td>\n",
       "      <td>0.170588</td>\n",
       "      <td>5</td>\n",
       "      <td>0.001</td>\n",
       "      <td>{'C': 5, 'gamma': 0.001}</td>\n",
       "      <td>0.947083</td>\n",
       "      <td>0.959583</td>\n",
       "      <td>0.953333</td>\n",
       "      <td>...</td>\n",
       "      <td>0.950000</td>\n",
       "      <td>0.005780</td>\n",
       "      <td>1</td>\n",
       "      <td>0.994896</td>\n",
       "      <td>0.993750</td>\n",
       "      <td>0.995208</td>\n",
       "      <td>0.995417</td>\n",
       "      <td>0.995208</td>\n",
       "      <td>0.994896</td>\n",
       "      <td>0.000597</td>\n",
       "    </tr>\n",
       "    <tr>\n",
       "      <th>2</th>\n",
       "      <td>10.451411</td>\n",
       "      <td>0.149972</td>\n",
       "      <td>6.158145</td>\n",
       "      <td>0.100892</td>\n",
       "      <td>5</td>\n",
       "      <td>0.0001</td>\n",
       "      <td>{'C': 5, 'gamma': 0.0001}</td>\n",
       "      <td>0.926250</td>\n",
       "      <td>0.937083</td>\n",
       "      <td>0.935000</td>\n",
       "      <td>...</td>\n",
       "      <td>0.931167</td>\n",
       "      <td>0.004643</td>\n",
       "      <td>4</td>\n",
       "      <td>0.952500</td>\n",
       "      <td>0.948958</td>\n",
       "      <td>0.950521</td>\n",
       "      <td>0.952083</td>\n",
       "      <td>0.949688</td>\n",
       "      <td>0.950750</td>\n",
       "      <td>0.001359</td>\n",
       "    </tr>\n",
       "    <tr>\n",
       "      <th>3</th>\n",
       "      <td>53.985037</td>\n",
       "      <td>5.023311</td>\n",
       "      <td>11.735703</td>\n",
       "      <td>0.346265</td>\n",
       "      <td>10</td>\n",
       "      <td>0.01</td>\n",
       "      <td>{'C': 10, 'gamma': 0.01}</td>\n",
       "      <td>0.789583</td>\n",
       "      <td>0.764167</td>\n",
       "      <td>0.795000</td>\n",
       "      <td>...</td>\n",
       "      <td>0.776083</td>\n",
       "      <td>0.013567</td>\n",
       "      <td>5</td>\n",
       "      <td>1.000000</td>\n",
       "      <td>1.000000</td>\n",
       "      <td>1.000000</td>\n",
       "      <td>1.000000</td>\n",
       "      <td>1.000000</td>\n",
       "      <td>1.000000</td>\n",
       "      <td>0.000000</td>\n",
       "    </tr>\n",
       "    <tr>\n",
       "      <th>4</th>\n",
       "      <td>9.605322</td>\n",
       "      <td>0.075540</td>\n",
       "      <td>5.366734</td>\n",
       "      <td>0.043947</td>\n",
       "      <td>10</td>\n",
       "      <td>0.001</td>\n",
       "      <td>{'C': 10, 'gamma': 0.001}</td>\n",
       "      <td>0.947500</td>\n",
       "      <td>0.959583</td>\n",
       "      <td>0.952083</td>\n",
       "      <td>...</td>\n",
       "      <td>0.949667</td>\n",
       "      <td>0.005691</td>\n",
       "      <td>2</td>\n",
       "      <td>0.999167</td>\n",
       "      <td>0.998750</td>\n",
       "      <td>0.998854</td>\n",
       "      <td>0.998542</td>\n",
       "      <td>0.998854</td>\n",
       "      <td>0.998833</td>\n",
       "      <td>0.000202</td>\n",
       "    </tr>\n",
       "    <tr>\n",
       "      <th>5</th>\n",
       "      <td>7.875610</td>\n",
       "      <td>0.880433</td>\n",
       "      <td>5.000757</td>\n",
       "      <td>0.033897</td>\n",
       "      <td>10</td>\n",
       "      <td>0.0001</td>\n",
       "      <td>{'C': 10, 'gamma': 0.0001}</td>\n",
       "      <td>0.931667</td>\n",
       "      <td>0.944167</td>\n",
       "      <td>0.937500</td>\n",
       "      <td>...</td>\n",
       "      <td>0.935500</td>\n",
       "      <td>0.005782</td>\n",
       "      <td>3</td>\n",
       "      <td>0.961250</td>\n",
       "      <td>0.957500</td>\n",
       "      <td>0.959688</td>\n",
       "      <td>0.960729</td>\n",
       "      <td>0.960104</td>\n",
       "      <td>0.959854</td>\n",
       "      <td>0.001292</td>\n",
       "    </tr>\n",
       "  </tbody>\n",
       "</table>\n",
       "<p>6 rows × 22 columns</p>\n",
       "</div>"
      ],
      "text/plain": [
       "   mean_fit_time  std_fit_time  mean_score_time  std_score_time param_C  \\\n",
       "0      51.759413      2.192987        11.529590        0.219934       5   \n",
       "1       9.719326      0.634949         5.468231        0.170588       5   \n",
       "2      10.451411      0.149972         6.158145        0.100892       5   \n",
       "3      53.985037      5.023311        11.735703        0.346265      10   \n",
       "4       9.605322      0.075540         5.366734        0.043947      10   \n",
       "5       7.875610      0.880433         5.000757        0.033897      10   \n",
       "\n",
       "  param_gamma                      params  split0_test_score  \\\n",
       "0        0.01     {'C': 5, 'gamma': 0.01}           0.789583   \n",
       "1       0.001    {'C': 5, 'gamma': 0.001}           0.947083   \n",
       "2      0.0001   {'C': 5, 'gamma': 0.0001}           0.926250   \n",
       "3        0.01    {'C': 10, 'gamma': 0.01}           0.789583   \n",
       "4       0.001   {'C': 10, 'gamma': 0.001}           0.947500   \n",
       "5      0.0001  {'C': 10, 'gamma': 0.0001}           0.931667   \n",
       "\n",
       "   split1_test_score  split2_test_score  ...  mean_test_score  std_test_score  \\\n",
       "0           0.764167           0.795000  ...         0.776083        0.013567   \n",
       "1           0.959583           0.953333  ...         0.950000        0.005780   \n",
       "2           0.937083           0.935000  ...         0.931167        0.004643   \n",
       "3           0.764167           0.795000  ...         0.776083        0.013567   \n",
       "4           0.959583           0.952083  ...         0.949667        0.005691   \n",
       "5           0.944167           0.937500  ...         0.935500        0.005782   \n",
       "\n",
       "   rank_test_score  split0_train_score  split1_train_score  \\\n",
       "0                5            1.000000            1.000000   \n",
       "1                1            0.994896            0.993750   \n",
       "2                4            0.952500            0.948958   \n",
       "3                5            1.000000            1.000000   \n",
       "4                2            0.999167            0.998750   \n",
       "5                3            0.961250            0.957500   \n",
       "\n",
       "   split2_train_score  split3_train_score  split4_train_score  \\\n",
       "0            1.000000            1.000000            1.000000   \n",
       "1            0.995208            0.995417            0.995208   \n",
       "2            0.950521            0.952083            0.949688   \n",
       "3            1.000000            1.000000            1.000000   \n",
       "4            0.998854            0.998542            0.998854   \n",
       "5            0.959688            0.960729            0.960104   \n",
       "\n",
       "   mean_train_score  std_train_score  \n",
       "0          1.000000         0.000000  \n",
       "1          0.994896         0.000597  \n",
       "2          0.950750         0.001359  \n",
       "3          1.000000         0.000000  \n",
       "4          0.998833         0.000202  \n",
       "5          0.959854         0.001292  \n",
       "\n",
       "[6 rows x 22 columns]"
      ]
     },
     "execution_count": 23,
     "metadata": {},
     "output_type": "execute_result"
    }
   ],
   "source": [
    "cv_results = pd.DataFrame(model_cv.cv_results_)\n",
    "cv_results"
   ]
  },
  {
   "cell_type": "code",
   "execution_count": 24,
   "id": "7f2abb89-994b-483b-9b57-39f343b521db",
   "metadata": {},
   "outputs": [
    {
     "data": {
      "image/png": "[encoded data removed]",
      "text/plain": [
       "<Figure size 1152x576 with 3 Axes>"
      ]
     },
     "metadata": {
      "needs_background": "light"
     },
     "output_type": "display_data"
    }
   ],
   "source": [
    "# converting C to numeric type for plotting on x-axis\n",
    "cv_results['param_C'] = cv_results['param_C'].astype('int')\n",
    "\n",
    "# # plotting\n",
    "plt.figure(figsize=(16,8))\n",
    "\n",
    "# subplot 1/3\n",
    "plt.subplot(131)\n",
    "gamma_01 = cv_results[cv_results['param_gamma']==0.01]\n",
    "\n",
    "plt.plot(gamma_01[\"param_C\"], gamma_01[\"mean_test_score\"])\n",
    "plt.plot(gamma_01[\"param_C\"], gamma_01[\"mean_train_score\"])\n",
    "plt.xlabel('C')\n",
    "plt.ylabel('Accuracy')\n",
    "plt.title(\"Gamma=0.01\")\n",
    "plt.ylim([0.60, 1])\n",
    "plt.legend(['test accuracy', 'train accuracy'], loc='upper left')\n",
    "plt.xscale('log')\n",
    "\n",
    "# subplot 2/3\n",
    "plt.subplot(132)\n",
    "gamma_001 = cv_results[cv_results['param_gamma']==0.001]\n",
    "\n",
    "plt.plot(gamma_001[\"param_C\"], gamma_001[\"mean_test_score\"])\n",
    "plt.plot(gamma_001[\"param_C\"], gamma_001[\"mean_train_score\"])\n",
    "plt.xlabel('C')\n",
    "plt.ylabel('Accuracy')\n",
    "plt.title(\"Gamma=0.001\")\n",
    "plt.ylim([0.60, 1])\n",
    "plt.legend(['test accuracy', 'train accuracy'], loc='upper left')\n",
    "plt.xscale('log')\n",
    "\n",
    "\n",
    "# subplot 3/3\n",
    "plt.subplot(133)\n",
    "gamma_0001 = cv_results[cv_results['param_gamma']==0.0001]\n",
    "\n",
    "plt.plot(gamma_0001[\"param_C\"], gamma_0001[\"mean_test_score\"])\n",
    "plt.plot(gamma_0001[\"param_C\"], gamma_0001[\"mean_train_score\"])\n",
    "plt.xlabel('C')\n",
    "plt.ylabel('Accuracy')\n",
    "plt.title(\"Gamma=0.0001\")\n",
    "plt.ylim([0.60, 1])\n",
    "plt.legend(['test accuracy', 'train accuracy'], loc='upper left')\n",
    "plt.xscale('log')"
   ]
  },
  {
   "cell_type": "code",
   "execution_count": 25,
   "id": "999b20cc-917b-470e-bc86-cb09ecf94189",
   "metadata": {},
   "outputs": [
    {
     "name": "stdout",
     "output_type": "stream",
     "text": [
      "The best test score is 0.95 corresponding to hyperparameters {'C': 5, 'gamma': 0.001}\n"
     ]
    }
   ],
   "source": [
    "# printing the optimal accuracy score and hyperparameters\n",
    "best_score = model_cv.best_score_\n",
    "best_hyperparams = model_cv.best_params_\n",
    "\n",
    "print(\"The best test score is {0} corresponding to hyperparameters {1}\".format(best_score, best_hyperparams))"
   ]
  },
  {
   "cell_type": "code",
   "execution_count": 26,
   "id": "4c0389b8-f14a-4f8f-8b7f-5e2654f99389",
   "metadata": {},
   "outputs": [
    {
     "name": "stdout",
     "output_type": "stream",
     "text": [
      "accuracy 0.9527222222222222 \n",
      "\n",
      "[[1731    0   14    1    0    6   13    2    4    1]\n",
      " [   1 1960   18    3    3    0    0    1    3    3]\n",
      " [   6    6 1762   11   13    2   10   17    3    1]\n",
      " [   2    1   44 1706    4   27    1   12   28    9]\n",
      " [   1    5   20    0 1685    3    9    7    3   39]\n",
      " [   4    4   23   26    3 1549   20    2   12    9]\n",
      " [   7    6   16    0    5    8 1709    1    5    0]\n",
      " [   3   14   38    6   14    0    1 1858    3   27]\n",
      " [  14   16   29   14   11   19   11    8 1594    8]\n",
      " [   2    5   14   12   26    4    0   32   12 1595]] \n",
      "\n"
     ]
    }
   ],
   "source": [
    "# model with optimal hyperparameters\n",
    "\n",
    "# model\n",
    "model = SVC(C=10, gamma=0.001, kernel=\"rbf\")\n",
    "\n",
    "model.fit(X_train, y_train)\n",
    "y_pred = model.predict(X_test)\n",
    "\n",
    "# metrics\n",
    "print(\"accuracy\", metrics.accuracy_score(y_test, y_pred), \"\\n\")\n",
    "print(metrics.confusion_matrix(y_test, y_pred), \"\\n\")"
   ]
  },
  {
   "cell_type": "code",
   "execution_count": 28,
   "id": "e7200df5-9c85-417d-a342-73ee80fd07a1",
   "metadata": {},
   "outputs": [
    {
     "name": "stdout",
     "output_type": "stream",
     "text": [
      "accuracy 0.9527222222222222 \n",
      "\n",
      "[[1732    0   13    1    0    7   13    2    3    1]\n",
      " [   1 1960   17    4    3    0    0    2    4    1]\n",
      " [   6    6 1762   12   13    2   10   16    3    1]\n",
      " [   2    1   43 1706    4   26    1   14   28    9]\n",
      " [   1    5   20    0 1682    3   10    9    3   39]\n",
      " [   4    5   23   26    3 1546   20    2   13   10]\n",
      " [   7    5   16    0    5    8 1709    1    6    0]\n",
      " [   3   12   36    7   13    0    1 1856    5   31]\n",
      " [  14   14   30   15   11   17   12    8 1595    8]\n",
      " [   2    5   15   12   26    4    0   27   10 1601]] \n",
      "\n"
     ]
    }
   ],
   "source": [
    "# model with optimal hyperparameters\n",
    "\n",
    "# model\n",
    "model = SVC(C=15, gamma=0.001, kernel=\"rbf\")\n",
    "\n",
    "model.fit(X_train, y_train)\n",
    "y_pred = model.predict(X_test)\n",
    "\n",
    "# metrics\n",
    "print(\"accuracy\", metrics.accuracy_score(y_test, y_pred), \"\\n\")\n",
    "print(metrics.confusion_matrix(y_test, y_pred), \"\\n\")"
   ]
  },
  {
   "cell_type": "code",
   "execution_count": null,
   "id": "f3a539a9-7726-4b93-b706-499dbac190f7",
   "metadata": {},
   "outputs": [],
   "source": []
  }
 ],
 "metadata": {
  "kernelspec": {
   "display_name": "Python 3",
   "language": "python",
   "name": "python3"
  },
  "language_info": {
   "codemirror_mode": {
    "name": "ipython",
    "version": 3
   },
   "file_extension": ".py",
   "mimetype": "text/x-python",
   "name": "python",
   "nbconvert_exporter": "python",
   "pygments_lexer": "ipython3",
   "version": "3.8.8"
  }
 },
 "nbformat": 4,
 "nbformat_minor": 5
}
